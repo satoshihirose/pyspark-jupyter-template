{
 "cells": [
  {
   "cell_type": "code",
   "execution_count": 5,
   "metadata": {},
   "outputs": [
    {
     "name": "stdout",
     "output_type": "stream",
     "text": [
      "root\n",
      " |-- abilities: array (nullable = true)\n",
      " |    |-- element: struct (containsNull = true)\n",
      " |    |    |-- ability: struct (nullable = true)\n",
      " |    |    |    |-- name: string (nullable = true)\n",
      " |    |    |    |-- url: string (nullable = true)\n",
      " |    |    |-- is_hidden: boolean (nullable = true)\n",
      " |    |    |-- slot: long (nullable = true)\n",
      " |-- base_experience: long (nullable = true)\n",
      " |-- forms: array (nullable = true)\n",
      " |    |-- element: struct (containsNull = true)\n",
      " |    |    |-- name: string (nullable = true)\n",
      " |    |    |-- url: string (nullable = true)\n",
      " |-- game_indices: array (nullable = true)\n",
      " |    |-- element: struct (containsNull = true)\n",
      " |    |    |-- game_index: long (nullable = true)\n",
      " |    |    |-- version: struct (nullable = true)\n",
      " |    |    |    |-- name: string (nullable = true)\n",
      " |    |    |    |-- url: string (nullable = true)\n",
      " |-- height: long (nullable = true)\n",
      " |-- held_items: array (nullable = true)\n",
      " |    |-- element: string (containsNull = true)\n",
      " |-- id: long (nullable = true)\n",
      " |-- is_default: boolean (nullable = true)\n",
      " |-- location_area_encounters: string (nullable = true)\n",
      " |-- moves: array (nullable = true)\n",
      " |    |-- element: struct (containsNull = true)\n",
      " |    |    |-- move: struct (nullable = true)\n",
      " |    |    |    |-- name: string (nullable = true)\n",
      " |    |    |    |-- url: string (nullable = true)\n",
      " |    |    |-- version_group_details: array (nullable = true)\n",
      " |    |    |    |-- element: struct (containsNull = true)\n",
      " |    |    |    |    |-- level_learned_at: long (nullable = true)\n",
      " |    |    |    |    |-- move_learn_method: struct (nullable = true)\n",
      " |    |    |    |    |    |-- name: string (nullable = true)\n",
      " |    |    |    |    |    |-- url: string (nullable = true)\n",
      " |    |    |    |    |-- version_group: struct (nullable = true)\n",
      " |    |    |    |    |    |-- name: string (nullable = true)\n",
      " |    |    |    |    |    |-- url: string (nullable = true)\n",
      " |-- name: string (nullable = true)\n",
      " |-- order: long (nullable = true)\n",
      " |-- species: struct (nullable = true)\n",
      " |    |-- name: string (nullable = true)\n",
      " |    |-- url: string (nullable = true)\n",
      " |-- sprites: struct (nullable = true)\n",
      " |    |-- back_default: string (nullable = true)\n",
      " |    |-- back_female: string (nullable = true)\n",
      " |    |-- back_shiny: string (nullable = true)\n",
      " |    |-- back_shiny_female: string (nullable = true)\n",
      " |    |-- front_default: string (nullable = true)\n",
      " |    |-- front_female: string (nullable = true)\n",
      " |    |-- front_shiny: string (nullable = true)\n",
      " |    |-- front_shiny_female: string (nullable = true)\n",
      " |-- stats: array (nullable = true)\n",
      " |    |-- element: struct (containsNull = true)\n",
      " |    |    |-- base_stat: long (nullable = true)\n",
      " |    |    |-- effort: long (nullable = true)\n",
      " |    |    |-- stat: struct (nullable = true)\n",
      " |    |    |    |-- name: string (nullable = true)\n",
      " |    |    |    |-- url: string (nullable = true)\n",
      " |-- types: array (nullable = true)\n",
      " |    |-- element: struct (containsNull = true)\n",
      " |    |    |-- slot: long (nullable = true)\n",
      " |    |    |-- type: struct (nullable = true)\n",
      " |    |    |    |-- name: string (nullable = true)\n",
      " |    |    |    |-- url: string (nullable = true)\n",
      " |-- weight: long (nullable = true)\n",
      "\n",
      "+--------------------+---------------+--------------------+--------------------+------+----------+---+----------+------------------------+--------------------+----------+-----+--------------------+--------------------+--------------------+--------------------+------+\n",
      "|           abilities|base_experience|               forms|        game_indices|height|held_items| id|is_default|location_area_encounters|               moves|      name|order|             species|             sprites|               stats|               types|weight|\n",
      "+--------------------+---------------+--------------------+--------------------+------+----------+---+----------+------------------------+--------------------+----------+-----+--------------------+--------------------+--------------------+--------------------+------+\n",
      "|[[[chlorophyll, h...|             64|[[bulbasaur, http...|[[1, [white-2, ht...|     7|        []|  1|      true|    https://pokeapi.c...|[[[razor-wind, ht...| bulbasaur|    1|[bulbasaur, https...|[https://raw.gith...|[[45, 0, [speed, ...|[[2, [poison, htt...|    69|\n",
      "|[[[chlorophyll, h...|            142|[[ivysaur, https:...|[[2, [white-2, ht...|    10|        []|  2|      true|    https://pokeapi.c...|[[[swords-dance, ...|   ivysaur|    2|[ivysaur, https:/...|[https://raw.gith...|[[60, 0, [speed, ...|[[2, [poison, htt...|   130|\n",
      "|[[[chlorophyll, h...|            236|[[venusaur, https...|[[3, [white-2, ht...|    20|        []|  3|      true|    https://pokeapi.c...|[[[swords-dance, ...|  venusaur|    3|[venusaur, https:...|[https://raw.gith...|[[80, 0, [speed, ...|[[2, [poison, htt...|  1000|\n",
      "|[[[solar-power, h...|             62|[[charmander, htt...|[[4, [white-2, ht...|     6|        []|  4|      true|    https://pokeapi.c...|[[[mega-punch, ht...|charmander|    5|[charmander, http...|[https://raw.gith...|[[65, 1, [speed, ...|[[1, [fire, https...|    85|\n",
      "|[[[solar-power, h...|            142|[[charmeleon, htt...|[[5, [white-2, ht...|    11|        []|  5|      true|    https://pokeapi.c...|[[[mega-punch, ht...|charmeleon|    6|[charmeleon, http...|[https://raw.gith...|[[80, 1, [speed, ...|[[1, [fire, https...|   190|\n",
      "|[[[solar-power, h...|            240|[[charizard, http...|[[6, [white-2, ht...|    17|        []|  6|      true|    https://pokeapi.c...|[[[mega-punch, ht...| charizard|    7|[charizard, https...|[https://raw.gith...|[[100, 0, [speed,...|[[2, [flying, htt...|   905|\n",
      "|[[[rain-dish, htt...|             63|[[squirtle, https...|[[7, [white-2, ht...|     5|        []|  7|      true|    https://pokeapi.c...|[[[mega-punch, ht...|  squirtle|   10|[squirtle, https:...|[https://raw.gith...|[[43, 0, [speed, ...|[[1, [water, http...|    90|\n",
      "|[[[rain-dish, htt...|            142|[[wartortle, http...|[[8, [white-2, ht...|    10|        []|  8|      true|    https://pokeapi.c...|[[[mega-punch, ht...| wartortle|   11|[wartortle, https...|[https://raw.gith...|[[58, 0, [speed, ...|[[1, [water, http...|   225|\n",
      "|[[[rain-dish, htt...|            239|[[blastoise, http...|[[9, [white-2, ht...|    16|        []|  9|      true|    https://pokeapi.c...|[[[mega-punch, ht...| blastoise|   12|[blastoise, https...|[https://raw.gith...|[[78, 0, [speed, ...|[[1, [water, http...|   855|\n",
      "+--------------------+---------------+--------------------+--------------------+------+----------+---+----------+------------------------+--------------------+----------+-----+--------------------+--------------------+--------------------+--------------------+------+\n",
      "\n"
     ]
    }
   ],
   "source": [
    "df = spark.read.load(\"../data/sample/pokemon/pokemon.json\", format=\"json\")\n",
    "df.printSchema()\n",
    "df.show()"
   ]
  },
  {
   "cell_type": "code",
   "execution_count": 6,
   "metadata": {},
   "outputs": [
    {
     "name": "stdout",
     "output_type": "stream",
     "text": [
      "+---+----------+------+------+------------------+------------------+\n",
      "| id|      name|height|weight|types[0].type.name|types[1].type.name|\n",
      "+---+----------+------+------+------------------+------------------+\n",
      "|  1| bulbasaur|     7|    69|            poison|             grass|\n",
      "|  2|   ivysaur|    10|   130|            poison|             grass|\n",
      "|  3|  venusaur|    20|  1000|            poison|             grass|\n",
      "|  4|charmander|     6|    85|              fire|              null|\n",
      "|  5|charmeleon|    11|   190|              fire|              null|\n",
      "|  6| charizard|    17|   905|            flying|              fire|\n",
      "|  7|  squirtle|     5|    90|             water|              null|\n",
      "|  8| wartortle|    10|   225|             water|              null|\n",
      "|  9| blastoise|    16|   855|             water|              null|\n",
      "+---+----------+------+------+------------------+------------------+\n",
      "\n"
     ]
    }
   ],
   "source": [
    "df.createOrReplaceTempView(\"pokemon\")\n",
    "query = '''\n",
    "SELECT\n",
    "id,\n",
    "name,\n",
    "height,\n",
    "weight,\n",
    "types[0].type.name,\n",
    "types[1].type.name\n",
    "FROM pokemon\n",
    "'''\n",
    "sqlDF = spark.sql(query)\n",
    "sqlDF.show()\n",
    "sqlDF.write.mode(\"overwrite\").json(\"data/output/pokemon_result.json\")"
   ]
  },
  {
   "cell_type": "code",
   "execution_count": null,
   "metadata": {},
   "outputs": [],
   "source": []
  }
 ],
 "metadata": {
  "kernelspec": {
   "display_name": "Python 3",
   "language": "python",
   "name": "python3"
  },
  "language_info": {
   "codemirror_mode": {
    "name": "ipython",
    "version": 3
   },
   "file_extension": ".py",
   "mimetype": "text/x-python",
   "name": "python",
   "nbconvert_exporter": "python",
   "pygments_lexer": "ipython3",
   "version": "3.7.5"
  }
 },
 "nbformat": 4,
 "nbformat_minor": 4
}
